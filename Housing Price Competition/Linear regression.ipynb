{
 "cells": [
  {
   "cell_type": "code",
   "execution_count": 7,
   "metadata": {
    "collapsed": false
   },
   "outputs": [
    {
     "name": "stderr",
     "output_type": "stream",
     "text": [
      "/Users/arjita/anaconda/lib/python3.5/site-packages/numpy/lib/function_base.py:3834: RuntimeWarning: Invalid value encountered in percentile\n",
      "  RuntimeWarning)\n"
     ]
    },
    {
     "data": {
      "text/plain": [
       "Neighborhood    False\n",
       "Condition1      False\n",
       "Condition2      False\n",
       "HouseStyle      False\n",
       "OverallQual     False\n",
       "YearBuilt       False\n",
       "YearRemodAdd    False\n",
       "RoofMatl        False\n",
       "Exterior1st     False\n",
       "Exterior2nd     False\n",
       "MasVnrArea      False\n",
       "TotalBsmtSF     False\n",
       "1stFlrSF        False\n",
       "GrLivArea       False\n",
       "FullBath        False\n",
       "TotRmsAbvGrd    False\n",
       "Functional      False\n",
       "Fireplaces      False\n",
       "GarageCars      False\n",
       "GarageArea      False\n",
       "SaleType        False\n",
       "dtype: bool"
      ]
     },
     "execution_count": 7,
     "metadata": {},
     "output_type": "execute_result"
    }
   ],
   "source": [
    "# Importing the libraries\n",
    "import numpy as np\n",
    "import matplotlib.pyplot as plt\n",
    "import pandas as pd\n",
    "\n",
    "\n",
    "# Importing the dataset\n",
    "train = pd.read_csv('/Users/arjita/ML/KaggleRegressionCompetition/train.csv')\n",
    "test=pd.read_csv('/Users/arjita/ML/KaggleRegressionCompetition/test.csv')\n",
    "X = train.iloc[:, :-1].values\n",
    "y = train.iloc[:, -1].values\n",
    "\n",
    "#obtain all the numeric features in both datasets\n",
    "#here numric features is also a dataframe\n",
    "numeric_features_train=train.select_dtypes(include=[np.number])\n",
    "numeric_features_train.describe()\n",
    "\n",
    "numeric_features_test=test.select_dtypes(include=[np.number])\n",
    "numeric_features_test.describe()\n",
    "\n",
    "#obtain categorical variables in both datasets\n",
    "#Use one -hot encoding to encode these variables to numerical values\n",
    "categoricals_train = train.select_dtypes(exclude=[np.number])\n",
    "categoricals_train.describe()\n",
    "\n",
    "categoricals_test = test.select_dtypes(exclude=[np.number])\n",
    "categoricals_test.describe()\n",
    "\n",
    "\n",
    "\n",
    "#obtain null values for each column in both datasets\n",
    "nulls_train = pd.DataFrame(train.isnull().sum().sort_values(ascending=False)[:])\n",
    "nulls_train.columns = ['Null Count']\n",
    "nulls_train.index.name = 'Feature'\n",
    "nulls_train[:16]\n",
    "\n",
    "nulls_test = pd.DataFrame(test.isnull().sum().sort_values(ascending=False)[:])\n",
    "nulls_test.columns = ['Null Count']\n",
    "nulls_test.index.name = 'Feature'\n",
    "nulls_test[:16]\n",
    "\n",
    "\n",
    "      \n",
    "    \n",
    "\n",
    "#Delete the columns haivng most null values in Train as well as in test dataset\n",
    "for elem in nulls_train.index[:16]:\n",
    "    train=train.drop(elem,1)\n",
    "    test=test.drop(elem,1)\n",
    "\n",
    "\n",
    "\n",
    "\n",
    "\n",
    "\n",
    "#examine the correlation between attributes in train dataset\n",
    "corr=numeric_features_train.corr()\n",
    "#corr['SalePrice'].sort_values(ascending='False').index\n",
    "\n",
    "\n",
    "#Delete all the columns which has the very less correlation with Target Variable\n",
    "#Removing attributes which have correlation coeff b/w -0.2 to 0.4\n",
    "del_corr=[]\n",
    "for elem in corr['SalePrice'].sort_values(ascending=False).index:\n",
    "    val=corr['SalePrice'][elem]\n",
    "    if(val<0.400000 and val>(-0.20000)):\n",
    "        del_corr.append(elem)\n",
    "        \n",
    "       \n",
    "#check if label are present in dataset or not\n",
    "for label in del_corr:\n",
    "    if(label in train.columns):\n",
    "       train=train.drop(label,axis=1)\n",
    "       test=test.drop(label,axis=1)\n",
    "\n",
    "    \n",
    "\n",
    "        \n",
    "categoricals_train = train.select_dtypes(exclude=[np.number])\n",
    "categoricals_train.describe()\n",
    "\n",
    "categoricals_test = test.select_dtypes(exclude=[np.number])\n",
    "categoricals_test.describe()\n",
    "        \n",
    " \n",
    "#Remove the categorcial attributes which have categories<=6\n",
    "#this is beacauese the wont affect much the dependent variable  \n",
    "\n",
    "    \n",
    "for column in categoricals_train.columns:\n",
    "    if(len(train[column].unique())<=6):\n",
    "        train=train.drop(column,axis=1)\n",
    "        test=test.drop(column,axis=1)\n",
    "        \n",
    "\n",
    "          \n",
    "  \n",
    "#UP till here \n",
    "#Removed Null variable\n",
    "#Removed less correlated variables\n",
    "#Removed some categorical variables       \n",
    "                   \n",
    "                    \n",
    " \n",
    "\n",
    "\n",
    "#Split Categorical variables into Dummy Variables with Corresponding Values as  0 or 1 \n",
    "#Depending on whether that variable need to present for that particular record\n",
    "l=[0,1,2,3,7,8,9,16,20] #index of categorical variables\n",
    "from sklearn.preprocessing import LabelEncoder\n",
    "labelencoder_train= LabelEncoder()\n",
    "labelencoder_test= LabelEncoder()\n",
    "for i in l:\n",
    "    train.iloc[:,i]=labelencoder_train.fit_transform(train.iloc[:,i].factorize()[0])\n",
    "    test.iloc[:,i]=labelencoder_test.fit_transform(test.iloc[:,i].factorize()[0])\n",
    "\n",
    "#Encode the dataset to get dummy categories\n",
    "#train=pd.get_dummies(train,columns=['Neighborhood','Condition1','Condition2','HouseStyle','RoofMatl','Exterior1st','Exterior2nd','FullBath','TotRmsAbvGrd','Functional','Fireplaces','GarageCars','SaleType']) \n",
    "#test=pd.get_dummies(test,columns=['Neighborhood','Condition1','Condition2','HouseStyle','RoofMatl','Exterior1st','Exterior2nd','FullBath','TotRmsAbvGrd','Functional','Fireplaces','GarageCars','SaleType'])    \n",
    "\n",
    "train.isnull().any()\n",
    "\n",
    "train['MasVnrArea']=train['MasVnrArea'].factorize()[0]\n",
    "train.isnull().any()\n",
    "test.isnull().any()\n",
    "test['MasVnrArea']=test['MasVnrArea'].factorize()[0]\n",
    "test['TotalBsmtSF']=test['TotalBsmtSF'].factorize()[0]\n",
    "test['GarageCars']=test['GarageCars'].factorize()[0]\n",
    "test['GarageArea']=test['GarageArea'].factorize()[0]\n",
    "test.isnull().any()"
   ]
  },
  {
   "cell_type": "code",
   "execution_count": 10,
   "metadata": {
    "collapsed": false
   },
   "outputs": [
    {
     "name": "stdout",
     "output_type": "stream",
     "text": [
      "0\n",
      "1460\n"
     ]
    }
   ],
   "source": [
    "from sklearn.model_selection import cross_val_predict\n",
    "from sklearn import linear_model\n",
    "from sklearn.linear_model import LinearRegression\n",
    "\n",
    "lr = linear_model.LinearRegression()\n",
    "lr.fit(train.iloc[:,:-1], train.iloc[:,-1])  \n",
    "final_prediction=lr.predict(test)\n",
    "#cross_val_predict(lr, )\n",
    "#x =[[[1,3,5], [2, 8, 9]],[[7,5,9], [12, 8, 9]]]\n",
    "#print(x[0:1,-1])\n",
    "\n",
    "submission=open('/Users/arjita/ML/KaggleRegressionCompetition/LinearRegressionSubmission.csv','w')\n",
    "submission.write('Id'+','+'SalePrice'+'\\n')\n",
    "num = 0\n",
    "for i in range(len(final_prediction)):\n",
    "    submission.write(str(i+1461)+','+str(format(final_prediction[i],'0.9f'))+'\\n')\n",
    "    #submission.write(str(i+1461)+','+str(final_prediction[i])+'\\n')\n",
    "\n",
    "print(num)\n",
    "\n",
    "print(len(final_prediction))"
   ]
  },
  {
   "cell_type": "code",
   "execution_count": 11,
   "metadata": {
    "collapsed": false
   },
   "outputs": [
    {
     "ename": "ValueError",
     "evalue": "x and y must be the same size",
     "output_type": "error",
     "traceback": [
      "\u001b[0;31m---------------------------------------------------------------------------\u001b[0m",
      "\u001b[0;31mValueError\u001b[0m                                Traceback (most recent call last)",
      "\u001b[0;32m<ipython-input-11-f9cf5aa39530>\u001b[0m in \u001b[0;36m<module>\u001b[0;34m()\u001b[0m\n\u001b[1;32m      1\u001b[0m \u001b[0mfig\u001b[0m\u001b[0;34m,\u001b[0m \u001b[0max\u001b[0m \u001b[0;34m=\u001b[0m \u001b[0mplt\u001b[0m\u001b[0;34m.\u001b[0m\u001b[0msubplots\u001b[0m\u001b[0;34m(\u001b[0m\u001b[0;34m)\u001b[0m\u001b[0;34m\u001b[0m\u001b[0m\n\u001b[0;32m----> 2\u001b[0;31m \u001b[0max\u001b[0m\u001b[0;34m.\u001b[0m\u001b[0mscatter\u001b[0m\u001b[0;34m(\u001b[0m\u001b[0my\u001b[0m\u001b[0;34m,\u001b[0m \u001b[0mfinal_prediction\u001b[0m\u001b[0;34m)\u001b[0m\u001b[0;34m\u001b[0m\u001b[0m\n\u001b[0m\u001b[1;32m      3\u001b[0m \u001b[0max\u001b[0m\u001b[0;34m.\u001b[0m\u001b[0mplot\u001b[0m\u001b[0;34m(\u001b[0m\u001b[0;34m[\u001b[0m\u001b[0my\u001b[0m\u001b[0;34m.\u001b[0m\u001b[0mmin\u001b[0m\u001b[0;34m(\u001b[0m\u001b[0;34m)\u001b[0m\u001b[0;34m,\u001b[0m \u001b[0my\u001b[0m\u001b[0;34m.\u001b[0m\u001b[0mmax\u001b[0m\u001b[0;34m(\u001b[0m\u001b[0;34m)\u001b[0m\u001b[0;34m]\u001b[0m\u001b[0;34m,\u001b[0m \u001b[0;34m[\u001b[0m\u001b[0my\u001b[0m\u001b[0;34m.\u001b[0m\u001b[0mmin\u001b[0m\u001b[0;34m(\u001b[0m\u001b[0;34m)\u001b[0m\u001b[0;34m,\u001b[0m \u001b[0my\u001b[0m\u001b[0;34m.\u001b[0m\u001b[0mmax\u001b[0m\u001b[0;34m(\u001b[0m\u001b[0;34m)\u001b[0m\u001b[0;34m]\u001b[0m\u001b[0;34m,\u001b[0m \u001b[0;34m'k--'\u001b[0m\u001b[0;34m,\u001b[0m \u001b[0mlw\u001b[0m\u001b[0;34m=\u001b[0m\u001b[0;36m4\u001b[0m\u001b[0;34m)\u001b[0m\u001b[0;34m\u001b[0m\u001b[0m\n\u001b[1;32m      4\u001b[0m \u001b[0max\u001b[0m\u001b[0;34m.\u001b[0m\u001b[0mset_xlabel\u001b[0m\u001b[0;34m(\u001b[0m\u001b[0;34m'Measured'\u001b[0m\u001b[0;34m)\u001b[0m\u001b[0;34m\u001b[0m\u001b[0m\n\u001b[1;32m      5\u001b[0m \u001b[0max\u001b[0m\u001b[0;34m.\u001b[0m\u001b[0mset_ylabel\u001b[0m\u001b[0;34m(\u001b[0m\u001b[0;34m'Predicted'\u001b[0m\u001b[0;34m)\u001b[0m\u001b[0;34m\u001b[0m\u001b[0m\n",
      "\u001b[0;32m/Users/arjita/anaconda/lib/python3.5/site-packages/matplotlib/__init__.py\u001b[0m in \u001b[0;36minner\u001b[0;34m(ax, *args, **kwargs)\u001b[0m\n\u001b[1;32m   1890\u001b[0m                     warnings.warn(msg % (label_namer, func.__name__),\n\u001b[1;32m   1891\u001b[0m                                   RuntimeWarning, stacklevel=2)\n\u001b[0;32m-> 1892\u001b[0;31m             \u001b[0;32mreturn\u001b[0m \u001b[0mfunc\u001b[0m\u001b[0;34m(\u001b[0m\u001b[0max\u001b[0m\u001b[0;34m,\u001b[0m \u001b[0;34m*\u001b[0m\u001b[0margs\u001b[0m\u001b[0;34m,\u001b[0m \u001b[0;34m**\u001b[0m\u001b[0mkwargs\u001b[0m\u001b[0;34m)\u001b[0m\u001b[0;34m\u001b[0m\u001b[0m\n\u001b[0m\u001b[1;32m   1893\u001b[0m         \u001b[0mpre_doc\u001b[0m \u001b[0;34m=\u001b[0m \u001b[0minner\u001b[0m\u001b[0;34m.\u001b[0m\u001b[0m__doc__\u001b[0m\u001b[0;34m\u001b[0m\u001b[0m\n\u001b[1;32m   1894\u001b[0m         \u001b[0;32mif\u001b[0m \u001b[0mpre_doc\u001b[0m \u001b[0;32mis\u001b[0m \u001b[0;32mNone\u001b[0m\u001b[0;34m:\u001b[0m\u001b[0;34m\u001b[0m\u001b[0m\n",
      "\u001b[0;32m/Users/arjita/anaconda/lib/python3.5/site-packages/matplotlib/axes/_axes.py\u001b[0m in \u001b[0;36mscatter\u001b[0;34m(self, x, y, s, c, marker, cmap, norm, vmin, vmax, alpha, linewidths, verts, edgecolors, **kwargs)\u001b[0m\n\u001b[1;32m   3956\u001b[0m         \u001b[0my\u001b[0m \u001b[0;34m=\u001b[0m \u001b[0mnp\u001b[0m\u001b[0;34m.\u001b[0m\u001b[0mma\u001b[0m\u001b[0;34m.\u001b[0m\u001b[0mravel\u001b[0m\u001b[0;34m(\u001b[0m\u001b[0my\u001b[0m\u001b[0;34m)\u001b[0m\u001b[0;34m\u001b[0m\u001b[0m\n\u001b[1;32m   3957\u001b[0m         \u001b[0;32mif\u001b[0m \u001b[0mx\u001b[0m\u001b[0;34m.\u001b[0m\u001b[0msize\u001b[0m \u001b[0;34m!=\u001b[0m \u001b[0my\u001b[0m\u001b[0;34m.\u001b[0m\u001b[0msize\u001b[0m\u001b[0;34m:\u001b[0m\u001b[0;34m\u001b[0m\u001b[0m\n\u001b[0;32m-> 3958\u001b[0;31m             \u001b[0;32mraise\u001b[0m \u001b[0mValueError\u001b[0m\u001b[0;34m(\u001b[0m\u001b[0;34m\"x and y must be the same size\"\u001b[0m\u001b[0;34m)\u001b[0m\u001b[0;34m\u001b[0m\u001b[0m\n\u001b[0m\u001b[1;32m   3959\u001b[0m \u001b[0;34m\u001b[0m\u001b[0m\n\u001b[1;32m   3960\u001b[0m         \u001b[0;32mif\u001b[0m \u001b[0ms\u001b[0m \u001b[0;32mis\u001b[0m \u001b[0;32mNone\u001b[0m\u001b[0;34m:\u001b[0m\u001b[0;34m\u001b[0m\u001b[0m\n",
      "\u001b[0;31mValueError\u001b[0m: x and y must be the same size"
     ]
    }
   ],
   "source": [
    "fig, ax = plt.subplots()\n",
    "ax.scatter(y, final_prediction)\n",
    "ax.plot([y.min(), y.max()], [y.min(), y.max()], 'k--', lw=4)\n",
    "ax.set_xlabel('Measured')\n",
    "ax.set_ylabel('Predicted')\n",
    "plt.show()"
   ]
  }
 ],
 "metadata": {
  "anaconda-cloud": {},
  "kernelspec": {
   "display_name": "Python [Root]",
   "language": "python",
   "name": "Python [Root]"
  },
  "language_info": {
   "codemirror_mode": {
    "name": "ipython",
    "version": 3
   },
   "file_extension": ".py",
   "mimetype": "text/x-python",
   "name": "python",
   "nbconvert_exporter": "python",
   "pygments_lexer": "ipython3",
   "version": "3.5.2"
  }
 },
 "nbformat": 4,
 "nbformat_minor": 2
}
